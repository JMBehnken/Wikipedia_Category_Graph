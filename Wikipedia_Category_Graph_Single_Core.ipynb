{
 "cells": [
  {
   "cell_type": "code",
   "execution_count": 1,
   "metadata": {
    "collapsed": true
   },
   "outputs": [],
   "source": [
    "from urllib.request import urlopen\n",
    "from bs4 import BeautifulSoup\n",
    "import pandas as pd\n",
    "import requests\n",
    "import time"
   ]
  },
  {
   "cell_type": "code",
   "execution_count": 2,
   "metadata": {
    "collapsed": true
   },
   "outputs": [],
   "source": [
    "article = 'Green_Day'\n",
    "\n",
    "\n",
    "def dataExtracting(elem, url, edges, urls, visited):\n",
    "    href = elem['href']\n",
    "    url = url.split('/')[-1].split(':')[-1]\n",
    "    title = href.split(':')[-1]\n",
    "    edges.append([dataCleaning(url), dataCleaning(title)])\n",
    "    if href not in urls and href not in visited:\n",
    "        urls.append(href)\n",
    "\n",
    "def dataCleaning(title):\n",
    "    return title.replace('_', ' ').replace('%C3%B6', 'ö').replace('%C3%9C', 'Ü').replace('%C3%A4', 'ä').replace('%C3%BC', 'ü').replace('%C3%9F', 'ß')"
   ]
  },
  {
   "cell_type": "code",
   "execution_count": 3,
   "metadata": {},
   "outputs": [
    {
     "name": "stdout",
     "output_type": "stream",
     "text": [
      "Dauer:\t40.04221177101135\n",
      "Edges:\t179\n",
      "VURLs:\t104\n",
      "NURLs:\t0\n",
      "URLs/s:\t2.5972591273115193\n"
     ]
    }
   ],
   "source": [
    "start = time.time()\n",
    "\n",
    "main_url = 'https://de.wikipedia.org'\n",
    "html = urlopen(main_url+'/wiki/'+article)\n",
    "bs = BeautifulSoup(html, 'lxml')\n",
    "\n",
    "edges = []\n",
    "urls_next = []\n",
    "urls_visited = []\n",
    "for elem in bs.find('div', {'id':'mw-normal-catlinks'}).findAll('a')[1:]:\n",
    "    dataExtracting(elem, main_url, edges, urls_next, urls_visited)\n",
    "    \n",
    "while True:\n",
    "    try:\n",
    "        url = urls_next.pop()\n",
    "    except IndexError:\n",
    "        break\n",
    "    \n",
    "    html = urlopen(main_url+url)\n",
    "    bs = BeautifulSoup(html, 'lxml')\n",
    "    urls_visited.append(url)\n",
    "    \n",
    "    try:\n",
    "        for elem in bs.find('div', {'id':'mw-normal-catlinks'}).findAll('a')[1:]:\n",
    "            dataExtracting(elem, url, edges, urls_next, urls_visited)\n",
    "    except:\n",
    "        pass\n",
    "    \n",
    "ende = time.time()\n",
    "print('Dauer:\\t{}'.format(ende-start))\n",
    "print('Edges:\\t{}'.format(len(edges)))\n",
    "print('VURLs:\\t{}'.format(len(urls_visited)))\n",
    "print('NURLs:\\t{}'.format(len(urls_next)))\n",
    "print('URLs/s:\\t{}'.format(len(urls_visited)/(ende-start)))"
   ]
  },
  {
   "cell_type": "code",
   "execution_count": 4,
   "metadata": {},
   "outputs": [
    {
     "data": {
      "text/plain": [
       "(179, 2)"
      ]
     },
     "execution_count": 4,
     "metadata": {},
     "output_type": "execute_result"
    }
   ],
   "source": [
    "df = pd.DataFrame(edges, columns=['Source', 'Target']).drop_duplicates().reset_index(drop=True)\n",
    "df.to_csv('build/Wiki_Categories_{}.csv'.format(article), index=False, encoding='utf-8')\n",
    "df.shape"
   ]
  },
  {
   "cell_type": "code",
   "execution_count": null,
   "metadata": {
    "collapsed": true
   },
   "outputs": [],
   "source": []
  }
 ],
 "metadata": {
  "kernelspec": {
   "display_name": "Python 3",
   "language": "python",
   "name": "python3"
  },
  "language_info": {
   "codemirror_mode": {
    "name": "ipython",
    "version": 3
   },
   "file_extension": ".py",
   "mimetype": "text/x-python",
   "name": "python",
   "nbconvert_exporter": "python",
   "pygments_lexer": "ipython3",
   "version": "3.6.1"
  }
 },
 "nbformat": 4,
 "nbformat_minor": 2
}
