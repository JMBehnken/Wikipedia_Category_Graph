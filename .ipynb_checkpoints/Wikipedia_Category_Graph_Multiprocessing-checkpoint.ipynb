{
 "cells": [
  {
   "cell_type": "code",
   "execution_count": 1,
   "metadata": {
    "collapsed": true
   },
   "outputs": [],
   "source": [
    "from urllib.request import urlopen\n",
    "from bs4 import BeautifulSoup\n",
    "import pandas as pd\n",
    "import requests\n",
    "\n",
    "from multiprocessing import Pool, Manager, Process\n",
    "import time\n",
    "\n",
    "\n",
    "article = 'Albert_Einstein'\n",
    "main_url = 'https://de.wikipedia.org'\n",
    "\n",
    "urls_next = [main_url+'/wiki/'+article]\n",
    "\n",
    "def dataCleaning(title):\n",
    "    return title.replace('_', ' ').replace('%C3%B6', 'ö').replace('%C3%9C', 'Ü').replace('%C3%A4', 'ä').replace('%C3%BC', 'ü').replace('%C3%9F', 'ß')\n",
    "\n",
    "def processURL(url):\n",
    "    data = []\n",
    "    html = urlopen(url)\n",
    "    bs = BeautifulSoup(html, 'lxml')\n",
    "    urls_visited.append(url)\n",
    "    try:\n",
    "        for elem in bs.find('div', {'id':'mw-normal-catlinks'}).findAll('a')[1:]:\n",
    "            href = elem['href']\n",
    "            url = url.split('/')[-1].split(':')[-1]\n",
    "            title = href.split(':')[-1]\n",
    "            data.append([dataCleaning(url), dataCleaning(title), href])\n",
    "    except:\n",
    "        pass\n",
    "    if data:\n",
    "        source, target, new_urls = zip(*data)\n",
    "        processData(source, target, new_urls)\n",
    "\n",
    "def processData(source, target, new_urls):\n",
    "    e = [edge for edge in zip(source, target)]\n",
    "    edges.extend(e)\n",
    "\n",
    "    urls_next.extend([main_url+url for url in [url for url in new_urls if main_url+url not in urls_visited and main_url+url not in urls_next]])\n",
    "    \n",
    "def urlGenerator():\n",
    "    while urls_next:\n",
    "        yield urls_next.pop()"
   ]
  },
  {
   "cell_type": "code",
   "execution_count": 2,
   "metadata": {
    "scrolled": true
   },
   "outputs": [
    {
     "name": "stdout",
     "output_type": "stream",
     "text": [
      "Dauer:\t87.30421304702759\n",
      "Edges:\t1703\n",
      "VURLs:\t864\n",
      "NURLs:\t0\n",
      "URLs/s:\t9.896429620579648\n"
     ]
    }
   ],
   "source": [
    "start = time.time()\n",
    "\n",
    "manager = Manager()\n",
    "urls_next = manager.list([main_url+'/wiki/'+article])\n",
    "edges = manager.list()\n",
    "urls_visited = manager.list()\n",
    "\n",
    "while urls_next:\n",
    "    pool = Pool()\n",
    "    pool.map(processURL, urlGenerator())\n",
    "\n",
    "    \n",
    "ende = time.time()\n",
    "print('Dauer:\\t{}'.format(ende-start))\n",
    "print('Edges:\\t{}'.format(len(edges)))\n",
    "print('VURLs:\\t{}'.format(len(urls_visited)))\n",
    "print('NURLs:\\t{}'.format(len(urls_next)))\n",
    "print('URLs/s:\\t{}'.format(len(urls_visited)/(ende-start)))"
   ]
  },
  {
   "cell_type": "code",
   "execution_count": 3,
   "metadata": {},
   "outputs": [
    {
     "data": {
      "text/plain": [
       "(1490, 2)"
      ]
     },
     "execution_count": 3,
     "metadata": {},
     "output_type": "execute_result"
    }
   ],
   "source": [
    "df = pd.DataFrame(list(edges), columns=['Source', 'Target']).drop_duplicates()\n",
    "df.to_csv('build/Wiki_Categories_{}.csv'.format(article), index=False, encoding='utf-8')\n",
    "df.shape"
   ]
  },
  {
   "cell_type": "code",
   "execution_count": null,
   "metadata": {
    "collapsed": true
   },
   "outputs": [],
   "source": []
  }
 ],
 "metadata": {
  "kernelspec": {
   "display_name": "Python 3",
   "language": "python",
   "name": "python3"
  },
  "language_info": {
   "codemirror_mode": {
    "name": "ipython",
    "version": 3
   },
   "file_extension": ".py",
   "mimetype": "text/x-python",
   "name": "python",
   "nbconvert_exporter": "python",
   "pygments_lexer": "ipython3",
   "version": "3.6.1"
  }
 },
 "nbformat": 4,
 "nbformat_minor": 2
}
